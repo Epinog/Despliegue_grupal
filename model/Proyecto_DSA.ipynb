{
 "cells": [
  {
   "cell_type": "markdown",
   "id": "76a3589e-7ad6-4fa3-96d7-cfebfbe30f8f",
   "metadata": {},
   "source": [
    "## Librerias"
   ]
  },
  {
   "cell_type": "code",
   "execution_count": 1,
   "id": "6db882c8-27f1-4f03-827b-49370da583c8",
   "metadata": {
    "tags": []
   },
   "outputs": [],
   "source": [
    "# Importar paquetes\n",
    "\n",
    "import pandas as pd\n",
    "import numpy as np\n",
    "import seaborn as sns\n",
    "import matplotlib.pyplot as plt\n",
    "import seaborn as sns\n",
    "\n",
    "from sklearn.neighbors import NearestNeighbors\n",
    "from sklearn.preprocessing import StandardScaler\n",
    "from scipy import stats\n",
    "from scipy.spatial.distance import pdist\n",
    "from scipy.spatial import distance_matrix\n",
    "from scipy.cluster.hierarchy import linkage, fcluster, dendrogram\n",
    "from sklearn.preprocessing import OrdinalEncoder\n",
    "# from gower import gower_matrix\n",
    "#from scipy.stats import mannwhitneyu\n",
    "\n",
    "from sklearn.preprocessing import StandardScaler\n",
    "from sklearn.decomposition import PCA \n",
    "from pca import pca\n",
    "from sklearn.cluster import KMeans\n",
    "from sklearn.metrics import silhouette_score\n",
    "from sklearn.cluster import DBSCAN\n",
    "from kneed import KneeLocator\n",
    "# from mpl_toolkits.mplot3d import Axes3D\n",
    "# import plotly.express as px\n",
    "\n",
    "from sklearn.cluster import AgglomerativeClustering\n",
    "import scipy.cluster.hierarchy as sch\n",
    "from scipy.cluster.hierarchy import fcluster\n",
    "\n",
    "#Librería para imputación múltiple\n",
    "import miceforest as mf\n",
    "\n",
    "\n",
    "import warnings\n",
    "warnings.filterwarnings(\"ignore\", category=UserWarning)"
   ]
  },
  {
   "cell_type": "code",
   "execution_count": 2,
   "id": "19870821-2fff-487e-9129-486c46acbe92",
   "metadata": {
    "tags": []
   },
   "outputs": [
    {
     "data": {
      "text/html": [
       "<div>\n",
       "<style scoped>\n",
       "    .dataframe tbody tr th:only-of-type {\n",
       "        vertical-align: middle;\n",
       "    }\n",
       "\n",
       "    .dataframe tbody tr th {\n",
       "        vertical-align: top;\n",
       "    }\n",
       "\n",
       "    .dataframe thead th {\n",
       "        text-align: right;\n",
       "    }\n",
       "</style>\n",
       "<table border=\"1\" class=\"dataframe\">\n",
       "  <thead>\n",
       "    <tr style=\"text-align: right;\">\n",
       "      <th></th>\n",
       "      <th>Hombre</th>\n",
       "      <th>Edad (años)</th>\n",
       "      <th>Lugar de atención</th>\n",
       "      <th>Nivel educativo</th>\n",
       "      <th>Afiliación SGSSS</th>\n",
       "      <th>Indice de Charlson</th>\n",
       "      <th>Embarazo_si_no</th>\n",
       "      <th>Sintomas_n</th>\n",
       "      <th>Disnea</th>\n",
       "      <th>TAM</th>\n",
       "      <th>...</th>\n",
       "      <th>Disfonia</th>\n",
       "      <th>Sincope</th>\n",
       "      <th>Estertores</th>\n",
       "      <th>Roncus</th>\n",
       "      <th>Sibilancias</th>\n",
       "      <th>Tirajes</th>\n",
       "      <th>Hipoventilacion</th>\n",
       "      <th>Deshidratacion</th>\n",
       "      <th>Rx_ingreso_Con_alteraciones_si_no</th>\n",
       "      <th>Gravedad del COVID-19</th>\n",
       "    </tr>\n",
       "  </thead>\n",
       "  <tbody>\n",
       "    <tr>\n",
       "      <th>0</th>\n",
       "      <td>1</td>\n",
       "      <td>52</td>\n",
       "      <td>Pereira</td>\n",
       "      <td>Sin informacion</td>\n",
       "      <td>Contributivo</td>\n",
       "      <td>1</td>\n",
       "      <td>0</td>\n",
       "      <td>5</td>\n",
       "      <td>1</td>\n",
       "      <td>108.666667</td>\n",
       "      <td>...</td>\n",
       "      <td>0</td>\n",
       "      <td>0</td>\n",
       "      <td>1</td>\n",
       "      <td>0</td>\n",
       "      <td>0</td>\n",
       "      <td>0</td>\n",
       "      <td>1</td>\n",
       "      <td>0</td>\n",
       "      <td>1</td>\n",
       "      <td>Neumonia grave</td>\n",
       "    </tr>\n",
       "    <tr>\n",
       "      <th>1</th>\n",
       "      <td>0</td>\n",
       "      <td>71</td>\n",
       "      <td>Pereira</td>\n",
       "      <td>Sin informacion</td>\n",
       "      <td>Contributivo</td>\n",
       "      <td>3</td>\n",
       "      <td>0</td>\n",
       "      <td>3</td>\n",
       "      <td>1</td>\n",
       "      <td>112.666667</td>\n",
       "      <td>...</td>\n",
       "      <td>0</td>\n",
       "      <td>0</td>\n",
       "      <td>1</td>\n",
       "      <td>0</td>\n",
       "      <td>0</td>\n",
       "      <td>0</td>\n",
       "      <td>1</td>\n",
       "      <td>0</td>\n",
       "      <td>1</td>\n",
       "      <td>Neumonia grave</td>\n",
       "    </tr>\n",
       "    <tr>\n",
       "      <th>2</th>\n",
       "      <td>0</td>\n",
       "      <td>28</td>\n",
       "      <td>Pereira</td>\n",
       "      <td>Sin informacion</td>\n",
       "      <td>Contributivo</td>\n",
       "      <td>0</td>\n",
       "      <td>0</td>\n",
       "      <td>10</td>\n",
       "      <td>1</td>\n",
       "      <td>101.000000</td>\n",
       "      <td>...</td>\n",
       "      <td>0</td>\n",
       "      <td>0</td>\n",
       "      <td>1</td>\n",
       "      <td>0</td>\n",
       "      <td>0</td>\n",
       "      <td>0</td>\n",
       "      <td>1</td>\n",
       "      <td>0</td>\n",
       "      <td>1</td>\n",
       "      <td>Enfermedad no complicada</td>\n",
       "    </tr>\n",
       "    <tr>\n",
       "      <th>3</th>\n",
       "      <td>0</td>\n",
       "      <td>40</td>\n",
       "      <td>Pereira</td>\n",
       "      <td>Profesional</td>\n",
       "      <td>Contributivo</td>\n",
       "      <td>0</td>\n",
       "      <td>0</td>\n",
       "      <td>2</td>\n",
       "      <td>0</td>\n",
       "      <td>113.666667</td>\n",
       "      <td>...</td>\n",
       "      <td>0</td>\n",
       "      <td>0</td>\n",
       "      <td>0</td>\n",
       "      <td>0</td>\n",
       "      <td>0</td>\n",
       "      <td>0</td>\n",
       "      <td>0</td>\n",
       "      <td>0</td>\n",
       "      <td>0</td>\n",
       "      <td>Enfermedad no complicada</td>\n",
       "    </tr>\n",
       "    <tr>\n",
       "      <th>4</th>\n",
       "      <td>1</td>\n",
       "      <td>46</td>\n",
       "      <td>Pereira</td>\n",
       "      <td>Secundaria</td>\n",
       "      <td>Contributivo</td>\n",
       "      <td>0</td>\n",
       "      <td>0</td>\n",
       "      <td>7</td>\n",
       "      <td>0</td>\n",
       "      <td>93.333333</td>\n",
       "      <td>...</td>\n",
       "      <td>0</td>\n",
       "      <td>0</td>\n",
       "      <td>0</td>\n",
       "      <td>0</td>\n",
       "      <td>0</td>\n",
       "      <td>0</td>\n",
       "      <td>0</td>\n",
       "      <td>0</td>\n",
       "      <td>1</td>\n",
       "      <td>Neumonia leve</td>\n",
       "    </tr>\n",
       "  </tbody>\n",
       "</table>\n",
       "<p>5 rows × 118 columns</p>\n",
       "</div>"
      ],
      "text/plain": [
       "   Hombre  Edad (años) Lugar de atención  Nivel educativo Afiliación SGSSS  \\\n",
       "0       1           52           Pereira  Sin informacion     Contributivo   \n",
       "1       0           71           Pereira  Sin informacion     Contributivo   \n",
       "2       0           28           Pereira  Sin informacion     Contributivo   \n",
       "3       0           40           Pereira      Profesional     Contributivo   \n",
       "4       1           46           Pereira       Secundaria     Contributivo   \n",
       "\n",
       "   Indice de Charlson  Embarazo_si_no  Sintomas_n  Disnea         TAM  ...  \\\n",
       "0                   1               0           5       1  108.666667  ...   \n",
       "1                   3               0           3       1  112.666667  ...   \n",
       "2                   0               0          10       1  101.000000  ...   \n",
       "3                   0               0           2       0  113.666667  ...   \n",
       "4                   0               0           7       0   93.333333  ...   \n",
       "\n",
       "   Disfonia  Sincope  Estertores  Roncus  Sibilancias  Tirajes  \\\n",
       "0         0        0           1       0            0        0   \n",
       "1         0        0           1       0            0        0   \n",
       "2         0        0           1       0            0        0   \n",
       "3         0        0           0       0            0        0   \n",
       "4         0        0           0       0            0        0   \n",
       "\n",
       "   Hipoventilacion  Deshidratacion  Rx_ingreso_Con_alteraciones_si_no  \\\n",
       "0                1               0                                  1   \n",
       "1                1               0                                  1   \n",
       "2                1               0                                  1   \n",
       "3                0               0                                  0   \n",
       "4                0               0                                  1   \n",
       "\n",
       "      Gravedad del COVID-19  \n",
       "0            Neumonia grave  \n",
       "1            Neumonia grave  \n",
       "2  Enfermedad no complicada  \n",
       "3  Enfermedad no complicada  \n",
       "4             Neumonia leve  \n",
       "\n",
       "[5 rows x 118 columns]"
      ]
     },
     "execution_count": 2,
     "metadata": {},
     "output_type": "execute_result"
    }
   ],
   "source": [
    "df = pd.read_excel(\"Data\\BD_C19_DSA.xlsx\")\n",
    "df.head()"
   ]
  },
  {
   "cell_type": "code",
   "execution_count": 4,
   "id": "57318db8-093c-4088-8db4-6159c8fb7ec9",
   "metadata": {
    "tags": []
   },
   "outputs": [
    {
     "data": {
      "text/plain": [
       "(774, 118)"
      ]
     },
     "execution_count": 4,
     "metadata": {},
     "output_type": "execute_result"
    }
   ],
   "source": [
    "df.shape"
   ]
  },
  {
   "cell_type": "code",
   "execution_count": 5,
   "id": "490af0f4-d59a-4c52-aee0-b2a758bd9118",
   "metadata": {},
   "outputs": [
    {
     "data": {
      "text/plain": [
       "Index(['Hombre', 'Edad (años)', 'Lugar de atención', 'Nivel educativo',\n",
       "       'Afiliación SGSSS', 'Indice de Charlson', 'Embarazo_si_no',\n",
       "       'Sintomas_n', 'Disnea', 'TAM',\n",
       "       ...\n",
       "       'Disfonia', 'Sincope', 'Estertores', 'Roncus', 'Sibilancias', 'Tirajes',\n",
       "       'Hipoventilacion', 'Deshidratacion',\n",
       "       'Rx_ingreso_Con_alteraciones_si_no', 'Gravedad del COVID-19'],\n",
       "      dtype='object', length=118)"
      ]
     },
     "execution_count": 5,
     "metadata": {},
     "output_type": "execute_result"
    }
   ],
   "source": [
    "df.columns"
   ]
  },
  {
   "cell_type": "code",
   "execution_count": 6,
   "id": "93f510ac-9ae4-4e44-b290-45b273025fbc",
   "metadata": {},
   "outputs": [
    {
     "name": "stdout",
     "output_type": "stream",
     "text": [
      "<class 'pandas.core.frame.DataFrame'>\n",
      "RangeIndex: 774 entries, 0 to 773\n",
      "Columns: 118 entries, Hombre to Gravedad del COVID-19\n",
      "dtypes: float64(12), int64(102), object(4)\n",
      "memory usage: 713.7+ KB\n"
     ]
    }
   ],
   "source": [
    "df.info()"
   ]
  },
  {
   "cell_type": "code",
   "execution_count": null,
   "id": "49956543-e2b4-40aa-abfd-9b9c8e4da066",
   "metadata": {},
   "outputs": [],
   "source": []
  },
  {
   "cell_type": "code",
   "execution_count": null,
   "id": "a126820c-b408-4ae9-886e-05e013bc99ce",
   "metadata": {},
   "outputs": [],
   "source": []
  },
  {
   "cell_type": "code",
   "execution_count": null,
   "id": "82b78a4a-d438-4ec6-aedf-e408588bd75f",
   "metadata": {},
   "outputs": [],
   "source": []
  },
  {
   "cell_type": "code",
   "execution_count": null,
   "id": "b53f9f97-bf3f-4afb-9a69-e4f6c776a762",
   "metadata": {},
   "outputs": [],
   "source": []
  }
 ],
 "metadata": {
  "kernelspec": {
   "display_name": "Python 3 (ipykernel)",
   "language": "python",
   "name": "python3"
  },
  "language_info": {
   "codemirror_mode": {
    "name": "ipython",
    "version": 3
   },
   "file_extension": ".py",
   "mimetype": "text/x-python",
   "name": "python",
   "nbconvert_exporter": "python",
   "pygments_lexer": "ipython3",
   "version": "3.11.3"
  }
 },
 "nbformat": 4,
 "nbformat_minor": 5
}
