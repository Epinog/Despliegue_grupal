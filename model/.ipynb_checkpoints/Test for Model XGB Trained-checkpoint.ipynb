{
 "cells": [
  {
   "cell_type": "code",
   "execution_count": 1,
   "id": "afea93ff-725f-472b-8e1e-e79f686d8e9d",
   "metadata": {},
   "outputs": [],
   "source": [
    "# Importar librerias\n",
    "import numpy as np\n",
    "import xgboost as xgb"
   ]
  },
  {
   "cell_type": "code",
   "execution_count": 2,
   "id": "512d0e05-abd0-4e84-b5df-fece976ab7a2",
   "metadata": {},
   "outputs": [],
   "source": [
    "#función para cargar el modelo\n",
    "def load_model(model_path):\n",
    "    model = xgb.Booster()\n",
    "    model.load_model(model_path)\n",
    "    return model\n",
    "\n",
    "# En este caso el modelo está en la misma carpeta del notebook\n",
    "deployed_model = load_model('modelo1')"
   ]
  },
  {
   "cell_type": "code",
   "execution_count": 3,
   "id": "c15499e0-6b52-464c-875d-b365c257d5f0",
   "metadata": {},
   "outputs": [],
   "source": [
    "#función para hacer la predicción\n",
    "def make_prediction(model, input_data):\n",
    "    # Convertir input_data a formato DMatrix\n",
    "    input_dmatrix = xgb.DMatrix(np.array(input_data).reshape(1, -1))\n",
    "\n",
    "    # Realizar predicción\n",
    "    prediction = model.predict(input_dmatrix)\n",
    "\n",
    "    # Conversión de la predicción en una salida binaria.\n",
    "    predicted_class = (prediction > 0.5).astype(int)\n",
    "\n",
    "    return predicted_class"
   ]
  },
  {
   "cell_type": "code",
   "execution_count": 4,
   "id": "c1b0aca0-09ad-47b6-b645-ba163eb8dc80",
   "metadata": {},
   "outputs": [],
   "source": [
    "#usando la función\n",
    "\n",
    "#en new data están las 14 variables en orden\n",
    "\n",
    "#'CURB-65_calculado', 'Disnea', 'Edad (años)', 'Leucocitos ingreso',\n",
    "       # 'Sat02 ingreso', 'Score News2_calculado', 'Creatinina ingreso',\n",
    "       # 'Dias_sintomas_antes_de_consulta', 'FR ingreso', 'FC ingreso',\n",
    "       # 'Indice de Charlson', 'Oxigeno suplementario', 'Hb ingreso',\n",
    "       # 'Plaquetas ingreso'\n",
    "\n",
    "new_data = [2,1,72,6000,92,7,0.80,8,19,100,3,0,16,400000]\n",
    "\n",
    "new_data2 = [1,1,74,18500,97,5,0.79,4,20,112,3,1,14.5,354000]\n"
   ]
  },
  {
   "cell_type": "code",
   "execution_count": 5,
   "id": "9bbe8791-bf4e-47bf-9d09-4168318250e6",
   "metadata": {},
   "outputs": [
    {
     "name": "stdout",
     "output_type": "stream",
     "text": [
      "The predicted class is: [0]\n"
     ]
    }
   ],
   "source": [
    "prediction = make_prediction(deployed_model, new_data)\n",
    "print(f\"The predicted class is: {prediction}\")"
   ]
  },
  {
   "cell_type": "code",
   "execution_count": 6,
   "id": "9c8fde0e-1505-4e3f-b7cc-e033b10ee040",
   "metadata": {
    "tags": []
   },
   "outputs": [
    {
     "name": "stdout",
     "output_type": "stream",
     "text": [
      "The predicted class is: [0]\n"
     ]
    }
   ],
   "source": [
    "prediction = make_prediction(deployed_model, new_data2)\n",
    "print(f\"The predicted class is: {prediction}\")"
   ]
  }
 ],
 "metadata": {
  "kernelspec": {
   "display_name": "Python 3 (ipykernel)",
   "language": "python",
   "name": "python3"
  },
  "language_info": {
   "codemirror_mode": {
    "name": "ipython",
    "version": 3
   },
   "file_extension": ".py",
   "mimetype": "text/x-python",
   "name": "python",
   "nbconvert_exporter": "python",
   "pygments_lexer": "ipython3",
   "version": "3.11.3"
  }
 },
 "nbformat": 4,
 "nbformat_minor": 5
}
