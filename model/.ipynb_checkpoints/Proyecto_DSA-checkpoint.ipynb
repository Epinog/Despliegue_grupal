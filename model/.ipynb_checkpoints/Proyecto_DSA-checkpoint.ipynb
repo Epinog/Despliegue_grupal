{
 "cells": [
  {
   "cell_type": "markdown",
   "id": "76a3589e-7ad6-4fa3-96d7-cfebfbe30f8f",
   "metadata": {},
   "source": [
    "## Librerias"
   ]
  },
  {
   "cell_type": "code",
   "execution_count": null,
   "id": "6db882c8-27f1-4f03-827b-49370da583c8",
   "metadata": {
    "tags": []
   },
   "outputs": [],
   "source": [
    "# Importar paquetes\n",
    "\n",
    "import pandas as pd\n",
    "import numpy as np\n",
    "import seaborn as sns\n",
    "import matplotlib.pyplot as plt\n",
    "import seaborn as sns\n",
    "\n",
    "from sklearn.preprocessing import StandardScaler\n",
    "from scipy import stats\n",
    "from sklearn.preprocessing import OrdinalEncoder\n",
    "#from scipy.stats import mannwhitneyu\n",
    "\n",
    "from sklearn.preprocessing import StandardScaler\n",
    "from sklearn.decomposition import PCA \n",
    "from pca import pca\n",
    "\n",
    "#Librería para imputación múltiple\n",
    "import miceforest as mf\n",
    "\n",
    "\n",
    "import warnings\n",
    "warnings.filterwarnings(\"ignore\", category=UserWarning)"
   ]
  },
  {
   "cell_type": "code",
   "execution_count": null,
   "id": "19870821-2fff-487e-9129-486c46acbe92",
   "metadata": {
    "tags": []
   },
   "outputs": [],
   "source": [
    "df = pd.read_excel(\"Data\\BD_C19_DSA.xlsx\")\n",
    "df.head()"
   ]
  },
  {
   "cell_type": "code",
   "execution_count": null,
   "id": "57318db8-093c-4088-8db4-6159c8fb7ec9",
   "metadata": {
    "tags": []
   },
   "outputs": [],
   "source": [
    "df.shape"
   ]
  },
  {
   "cell_type": "code",
   "execution_count": null,
   "id": "490af0f4-d59a-4c52-aee0-b2a758bd9118",
   "metadata": {},
   "outputs": [],
   "source": [
    "df.columns"
   ]
  },
  {
   "cell_type": "code",
   "execution_count": null,
   "id": "93f510ac-9ae4-4e44-b290-45b273025fbc",
   "metadata": {},
   "outputs": [],
   "source": [
    "df.info()"
   ]
  },
  {
   "cell_type": "code",
   "execution_count": null,
   "id": "49956543-e2b4-40aa-abfd-9b9c8e4da066",
   "metadata": {},
   "outputs": [],
   "source": [
    "for column in df.columns:\n",
    "    print(column)"
   ]
  },
  {
   "cell_type": "code",
   "execution_count": null,
   "id": "a126820c-b408-4ae9-886e-05e013bc99ce",
   "metadata": {},
   "outputs": [],
   "source": [
    "df.describe().T"
   ]
  },
  {
   "cell_type": "code",
   "execution_count": null,
   "id": "82b78a4a-d438-4ec6-aedf-e408588bd75f",
   "metadata": {},
   "outputs": [],
   "source": [
    "#Solo variables cuantitativas\n",
    "df.describe(exclude=['object']).T"
   ]
  },
  {
   "cell_type": "markdown",
   "id": "df944f96-a049-4b86-b1ef-83a9612c4630",
   "metadata": {},
   "source": [
    "### Verificando si hay datos nulos"
   ]
  },
  {
   "cell_type": "code",
   "execution_count": null,
   "id": "7dd24676-c5eb-499c-8150-7d985ebbfe06",
   "metadata": {},
   "outputs": [],
   "source": [
    "print(df.isnull().any())\n",
    "print('Variables con faltantes:',df.isnull().any().sum())"
   ]
  },
  {
   "cell_type": "code",
   "execution_count": null,
   "id": "25a935ca-318d-4993-875e-4e6fb3a30a15",
   "metadata": {},
   "outputs": [],
   "source": [
    "#Verificando cantidad y porcentaje de nulos en los predictores\n",
    "def tablanull(df):\n",
    "    Nvalues = pd.DataFrame(df.isnull().sum())\n",
    "    Nvalues[1] = round((Nvalues[0]/len(df)*100),2)\n",
    "    Nvalues.columns = ['Nulos Totales','Porcentaje de Nulos']\n",
    "    Nvalues = Nvalues[Nvalues['Nulos Totales'] > 0] # filter out rows with zero null values\n",
    "    Nvalues = Nvalues.sort_values(by='Porcentaje de Nulos', ascending=False)\n",
    "    return Nvalues\n",
    "tablanull(df)"
   ]
  },
  {
   "cell_type": "markdown",
   "id": "d742d65b-2df6-49fc-99fd-ae217ce34abd",
   "metadata": {},
   "source": [
    "### Variables categóricas"
   ]
  },
  {
   "cell_type": "code",
   "execution_count": null,
   "id": "bf3da071-5078-4e54-8434-9988178df9bc",
   "metadata": {},
   "outputs": [],
   "source": [
    "df.Hombre"
   ]
  },
  {
   "cell_type": "code",
   "execution_count": null,
   "id": "46d357c3-2a5b-4d2a-a911-57c6571bd8ba",
   "metadata": {},
   "outputs": [],
   "source": [
    "base_cat = df.select_dtypes(exclude=['int', 'float']) #seleccionamos solo las variables categóricas para ver sus frecuencias\n",
    "for col in base_cat.columns:\n",
    "    print(\"\\n\"+'\\033[1m' + col + '\\033[0m' + \"\\n\") #poner negrita en cada nombre de variable\n",
    "    print(base_cat[col].unique()) # categorías únicas dentro de cada variable\n",
    "    print(base_cat[col].value_counts())\n",
    "    print(\"Valores perdidos:\", base_cat[col].isnull().sum()) #verificamos perdidos x v/ble"
   ]
  },
  {
   "cell_type": "markdown",
   "id": "bc99ce93-90f2-4f77-a25c-a6c9f15855f4",
   "metadata": {},
   "source": [
    "### Variables dicotómicas y cuantitativas"
   ]
  },
  {
   "cell_type": "code",
   "execution_count": null,
   "id": "c83ed356-6e87-473d-88fd-ccab7b01f64c",
   "metadata": {},
   "outputs": [],
   "source": [
    "base_cont = df.select_dtypes(include=['int', 'float']) #seleccionamos solo las variables numéricas\n",
    "for col in base_cont.columns:\n",
    "    print(\"\\n\"+'\\033[1m' + col + '\\033[0m' + \"\\n\") #poner negrita en cada nombre de variable\n",
    "    print(base_cont[col].value_counts())\n",
    "    print(\"Valores perdidos:\", base_cont[col].isnull().sum()) #verificamos perdidos x v/ble"
   ]
  },
  {
   "cell_type": "markdown",
   "id": "b9d346de-391c-4b31-ad82-cdb6fd50418f",
   "metadata": {},
   "source": [
    "### Matriz de correlación"
   ]
  },
  {
   "cell_type": "code",
   "execution_count": null,
   "id": "d170eb4f-3620-4a8e-8574-53a7160d309b",
   "metadata": {},
   "outputs": [],
   "source": [
    "# Verificamos la correlación de la variables.\n",
    "print('Matriz de correlación')\n",
    "matriz = pd.DataFrame(base_cont).corr(method='pearson').round(2)\n",
    "\n",
    "sns.set(rc = {'figure.figsize':(12,10)})\n",
    "sns.heatmap(matriz, annot=True, annot_kws={'size': 7.5}, square=True, linewidths=0.1, linecolor=\"white\", cmap=\"Blues_r\")\n",
    "\n",
    "plt.show()"
   ]
  },
  {
   "cell_type": "markdown",
   "id": "c5e0a325",
   "metadata": {},
   "source": [
    "**Histogramas de variables numéricas**"
   ]
  },
  {
   "cell_type": "code",
   "execution_count": 1,
   "id": "8a07e323",
   "metadata": {},
   "outputs": [],
   "source": [
    "Vbles_cuanti = ['Edad (años)', 'Indice de Charlson', 'Sintomas_n', 'TAM', 'FC ingreso', 'FR ingreso',\n",
    "                'T ingreso', 'Sat02 ingreso', 'CURB-65_calculado', 'Score News2_calculado', 'Hb ingreso', 'Hto ingreso', \n",
    "                'Leucocitos ingreso', 'Neutrofilos n absoluto ingreso', 'Linfocitos n absoluto ingreso',\n",
    "                'Plaquetas ingreso', 'Creatinina ingreso', 'Complicaciones_n']\n",
    "               "
   ]
  },
  {
   "cell_type": "code",
   "execution_count": 2,
   "id": "38802e18",
   "metadata": {},
   "outputs": [
    {
     "ename": "NameError",
     "evalue": "name 'base' is not defined",
     "output_type": "error",
     "traceback": [
      "\u001b[0;31m---------------------------------------------------------------------------\u001b[0m",
      "\u001b[0;31mNameError\u001b[0m                                 Traceback (most recent call last)",
      "Cell \u001b[0;32mIn[2], line 1\u001b[0m\n\u001b[0;32m----> 1\u001b[0m \u001b[43mbase\u001b[49m[Vbles_cuanti]\u001b[38;5;241m.\u001b[39mhist(figsize\u001b[38;5;241m=\u001b[39m(\u001b[38;5;241m18\u001b[39m, \u001b[38;5;241m20\u001b[39m),grid\u001b[38;5;241m=\u001b[39m\u001b[38;5;28;01mFalse\u001b[39;00m, color\u001b[38;5;241m=\u001b[39m\u001b[38;5;124m'\u001b[39m\u001b[38;5;124mblue\u001b[39m\u001b[38;5;124m'\u001b[39m,rwidth \u001b[38;5;241m=\u001b[39m \u001b[38;5;241m1.5\u001b[39m)\n\u001b[1;32m      2\u001b[0m plt\u001b[38;5;241m.\u001b[39msuptitle(\u001b[38;5;124m'\u001b[39m\u001b[38;5;124mHistogramas\u001b[39m\u001b[38;5;124m'\u001b[39m)\n\u001b[1;32m      3\u001b[0m plt\u001b[38;5;241m.\u001b[39mshow()\n",
      "\u001b[0;31mNameError\u001b[0m: name 'base' is not defined"
     ]
    }
   ],
   "source": [
    "base[Vbles_cuanti].hist(figsize=(18, 20),grid=False, color='blue',rwidth = 1.5)\n",
    "plt.suptitle('Histogramas')\n",
    "plt.show()"
   ]
  },
  {
   "cell_type": "code",
   "execution_count": null,
   "id": "057b4dd3",
   "metadata": {},
   "outputs": [],
   "source": []
  }
 ],
 "metadata": {
  "kernelspec": {
   "display_name": "Python 3 (ipykernel)",
   "language": "python",
   "name": "python3"
  },
  "language_info": {
   "codemirror_mode": {
    "name": "ipython",
    "version": 3
   },
   "file_extension": ".py",
   "mimetype": "text/x-python",
   "name": "python",
   "nbconvert_exporter": "python",
   "pygments_lexer": "ipython3",
   "version": "3.10.9"
  }
 },
 "nbformat": 4,
 "nbformat_minor": 5
}
